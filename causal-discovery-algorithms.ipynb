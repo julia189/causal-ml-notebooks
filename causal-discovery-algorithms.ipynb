{
 "cells": [
  {
   "cell_type": "code",
   "execution_count": 1,
   "id": "e09cbf86",
   "metadata": {},
   "outputs": [],
   "source": [
    "import os"
   ]
  },
  {
   "cell_type": "code",
   "execution_count": 2,
   "id": "de1bf1ee",
   "metadata": {},
   "outputs": [
    {
     "name": "stdout",
     "output_type": "stream",
     "text": [
      "Requirement already satisfied: gcastle in /Users/Q619505/Library/Caches/pypoetry/virtualenvs/causal-ml-notebooks-qefu-_6Z-py3.10/lib/python3.10/site-packages (1.0.3)\n",
      "Requirement already satisfied: matplotlib>=2.1.2 in /Users/Q619505/Library/Caches/pypoetry/virtualenvs/causal-ml-notebooks-qefu-_6Z-py3.10/lib/python3.10/site-packages (from gcastle) (3.8.2)\n",
      "Requirement already satisfied: networkx>=2.5 in /Users/Q619505/Library/Caches/pypoetry/virtualenvs/causal-ml-notebooks-qefu-_6Z-py3.10/lib/python3.10/site-packages (from gcastle) (3.2.1)\n",
      "Requirement already satisfied: numpy>=1.19.1 in /Users/Q619505/Library/Caches/pypoetry/virtualenvs/causal-ml-notebooks-qefu-_6Z-py3.10/lib/python3.10/site-packages (from gcastle) (1.26.2)\n",
      "Requirement already satisfied: pandas>=0.22.0 in /Users/Q619505/Library/Caches/pypoetry/virtualenvs/causal-ml-notebooks-qefu-_6Z-py3.10/lib/python3.10/site-packages (from gcastle) (2.1.3)\n",
      "Requirement already satisfied: scikit-learn>=0.21.1 in /Users/Q619505/Library/Caches/pypoetry/virtualenvs/causal-ml-notebooks-qefu-_6Z-py3.10/lib/python3.10/site-packages (from gcastle) (1.3.2)\n",
      "Requirement already satisfied: scipy>=1.7.3 in /Users/Q619505/Library/Caches/pypoetry/virtualenvs/causal-ml-notebooks-qefu-_6Z-py3.10/lib/python3.10/site-packages (from gcastle) (1.11.4)\n",
      "Requirement already satisfied: tqdm>=4.48.2 in /Users/Q619505/Library/Caches/pypoetry/virtualenvs/causal-ml-notebooks-qefu-_6Z-py3.10/lib/python3.10/site-packages (from gcastle) (4.66.1)\n",
      "Requirement already satisfied: contourpy>=1.0.1 in /Users/Q619505/Library/Caches/pypoetry/virtualenvs/causal-ml-notebooks-qefu-_6Z-py3.10/lib/python3.10/site-packages (from matplotlib>=2.1.2->gcastle) (1.2.0)\n",
      "Requirement already satisfied: cycler>=0.10 in /Users/Q619505/Library/Caches/pypoetry/virtualenvs/causal-ml-notebooks-qefu-_6Z-py3.10/lib/python3.10/site-packages (from matplotlib>=2.1.2->gcastle) (0.12.1)\n",
      "Requirement already satisfied: fonttools>=4.22.0 in /Users/Q619505/Library/Caches/pypoetry/virtualenvs/causal-ml-notebooks-qefu-_6Z-py3.10/lib/python3.10/site-packages (from matplotlib>=2.1.2->gcastle) (4.45.1)\n",
      "Requirement already satisfied: kiwisolver>=1.3.1 in /Users/Q619505/Library/Caches/pypoetry/virtualenvs/causal-ml-notebooks-qefu-_6Z-py3.10/lib/python3.10/site-packages (from matplotlib>=2.1.2->gcastle) (1.4.5)\n",
      "Requirement already satisfied: packaging>=20.0 in /Users/Q619505/Library/Caches/pypoetry/virtualenvs/causal-ml-notebooks-qefu-_6Z-py3.10/lib/python3.10/site-packages (from matplotlib>=2.1.2->gcastle) (23.2)\n",
      "Requirement already satisfied: pillow>=8 in /Users/Q619505/Library/Caches/pypoetry/virtualenvs/causal-ml-notebooks-qefu-_6Z-py3.10/lib/python3.10/site-packages (from matplotlib>=2.1.2->gcastle) (10.1.0)\n",
      "Requirement already satisfied: pyparsing>=2.3.1 in /Users/Q619505/Library/Caches/pypoetry/virtualenvs/causal-ml-notebooks-qefu-_6Z-py3.10/lib/python3.10/site-packages (from matplotlib>=2.1.2->gcastle) (3.1.1)\n",
      "Requirement already satisfied: python-dateutil>=2.7 in /Users/Q619505/Library/Caches/pypoetry/virtualenvs/causal-ml-notebooks-qefu-_6Z-py3.10/lib/python3.10/site-packages (from matplotlib>=2.1.2->gcastle) (2.8.2)\n",
      "Requirement already satisfied: pytz>=2020.1 in /Users/Q619505/Library/Caches/pypoetry/virtualenvs/causal-ml-notebooks-qefu-_6Z-py3.10/lib/python3.10/site-packages (from pandas>=0.22.0->gcastle) (2023.3.post1)\n",
      "Requirement already satisfied: tzdata>=2022.1 in /Users/Q619505/Library/Caches/pypoetry/virtualenvs/causal-ml-notebooks-qefu-_6Z-py3.10/lib/python3.10/site-packages (from pandas>=0.22.0->gcastle) (2023.3)\n",
      "Requirement already satisfied: joblib>=1.1.1 in /Users/Q619505/Library/Caches/pypoetry/virtualenvs/causal-ml-notebooks-qefu-_6Z-py3.10/lib/python3.10/site-packages (from scikit-learn>=0.21.1->gcastle) (1.3.2)\n",
      "Requirement already satisfied: threadpoolctl>=2.0.0 in /Users/Q619505/Library/Caches/pypoetry/virtualenvs/causal-ml-notebooks-qefu-_6Z-py3.10/lib/python3.10/site-packages (from scikit-learn>=0.21.1->gcastle) (3.2.0)\n",
      "Requirement already satisfied: six>=1.5 in /Users/Q619505/Library/Caches/pypoetry/virtualenvs/causal-ml-notebooks-qefu-_6Z-py3.10/lib/python3.10/site-packages (from python-dateutil>=2.7->matplotlib>=2.1.2->gcastle) (1.16.0)\n",
      "\n",
      "\u001b[1m[\u001b[0m\u001b[34;49mnotice\u001b[0m\u001b[1;39;49m]\u001b[0m\u001b[39;49m A new release of pip is available: \u001b[0m\u001b[31;49m23.2.1\u001b[0m\u001b[39;49m -> \u001b[0m\u001b[32;49m23.3.1\u001b[0m\n",
      "\u001b[1m[\u001b[0m\u001b[34;49mnotice\u001b[0m\u001b[1;39;49m]\u001b[0m\u001b[39;49m To update, run: \u001b[0m\u001b[32;49mpip install --upgrade pip\u001b[0m\n"
     ]
    }
   ],
   "source": [
    "! pip install gcastle\n"
   ]
  },
  {
   "cell_type": "code",
   "execution_count": 5,
   "id": "02a93fc8",
   "metadata": {
    "scrolled": true
   },
   "outputs": [
    {
     "ename": "ModuleNotFoundError",
     "evalue": "No module named 'torch'",
     "output_type": "error",
     "traceback": [
      "\u001b[0;31m---------------------------------------------------------------------------\u001b[0m",
      "\u001b[0;31mModuleNotFoundError\u001b[0m                       Traceback (most recent call last)",
      "\u001b[1;32m/Users/Q619505/PycharmProjects/causal-ml-notebooks/causal-discovery-algorithms.ipynb Cell 3\u001b[0m line \u001b[0;36m1\n\u001b[1;32m     <a href='vscode-notebook-cell:/Users/Q619505/PycharmProjects/causal-ml-notebooks/causal-discovery-algorithms.ipynb#W1sZmlsZQ%3D%3D?line=11'>12</a>\u001b[0m \u001b[39mfrom\u001b[39;00m \u001b[39mcastle\u001b[39;00m\u001b[39m.\u001b[39;00m\u001b[39mmetrics\u001b[39;00m \u001b[39mimport\u001b[39;00m MetricsDAG\n\u001b[1;32m     <a href='vscode-notebook-cell:/Users/Q619505/PycharmProjects/causal-ml-notebooks/causal-discovery-algorithms.ipynb#W1sZmlsZQ%3D%3D?line=12'>13</a>\u001b[0m \u001b[39mfrom\u001b[39;00m \u001b[39mcastle\u001b[39;00m\u001b[39m.\u001b[39;00m\u001b[39mdatasets\u001b[39;00m \u001b[39mimport\u001b[39;00m IIDSimulation, DAG\n\u001b[0;32m---> <a href='vscode-notebook-cell:/Users/Q619505/PycharmProjects/causal-ml-notebooks/causal-discovery-algorithms.ipynb#W1sZmlsZQ%3D%3D?line=13'>14</a>\u001b[0m \u001b[39mfrom\u001b[39;00m \u001b[39mcastle\u001b[39;00m\u001b[39m.\u001b[39;00m\u001b[39malgorithms\u001b[39;00m \u001b[39mimport\u001b[39;00m PC, GES, ICALiNGAM, GOLEM\n\u001b[1;32m     <a href='vscode-notebook-cell:/Users/Q619505/PycharmProjects/causal-ml-notebooks/causal-discovery-algorithms.ipynb#W1sZmlsZQ%3D%3D?line=15'>16</a>\u001b[0m \u001b[39mimport\u001b[39;00m \u001b[39mmatplotlib\u001b[39;00m\u001b[39m.\u001b[39;00m\u001b[39mpyplot\u001b[39;00m \u001b[39mas\u001b[39;00m \u001b[39mplt\u001b[39;00m\n",
      "File \u001b[0;32m~/Library/Caches/pypoetry/virtualenvs/causal-ml-notebooks-qefu-_6Z-py3.10/lib/python3.10/site-packages/castle/algorithms/__init__.py:22\u001b[0m\n\u001b[1;32m     20\u001b[0m \u001b[39mfrom\u001b[39;00m \u001b[39m.\u001b[39;00m\u001b[39mges\u001b[39;00m \u001b[39mimport\u001b[39;00m GES\n\u001b[1;32m     21\u001b[0m \u001b[39mfrom\u001b[39;00m \u001b[39m.\u001b[39;00m\u001b[39mttpm\u001b[39;00m \u001b[39mimport\u001b[39;00m TTPM\n\u001b[0;32m---> 22\u001b[0m \u001b[39mfrom\u001b[39;00m \u001b[39m.\u001b[39;00m\u001b[39mlingam\u001b[39;00m \u001b[39mimport\u001b[39;00m DirectLiNGAM\n\u001b[1;32m     23\u001b[0m \u001b[39mfrom\u001b[39;00m \u001b[39m.\u001b[39;00m\u001b[39mlingam\u001b[39;00m \u001b[39mimport\u001b[39;00m ICALiNGAM\n\u001b[1;32m     24\u001b[0m \u001b[39mfrom\u001b[39;00m \u001b[39m.\u001b[39;00m\u001b[39mpc\u001b[39;00m \u001b[39mimport\u001b[39;00m PC\n",
      "File \u001b[0;32m~/Library/Caches/pypoetry/virtualenvs/causal-ml-notebooks-qefu-_6Z-py3.10/lib/python3.10/site-packages/castle/algorithms/lingam/__init__.py:16\u001b[0m\n\u001b[1;32m      1\u001b[0m \u001b[39m# coding=utf-8\u001b[39;00m\n\u001b[1;32m      2\u001b[0m \u001b[39m# Copyright (C) 2021. Huawei Technologies Co., Ltd. All rights reserved.\u001b[39;00m\n\u001b[1;32m      3\u001b[0m \u001b[39m#\u001b[39;00m\n\u001b[0;32m   (...)\u001b[0m\n\u001b[1;32m     13\u001b[0m \u001b[39m# See the License for the specific language governing permissions and\u001b[39;00m\n\u001b[1;32m     14\u001b[0m \u001b[39m# limitations under the License.\u001b[39;00m\n\u001b[0;32m---> 16\u001b[0m \u001b[39mfrom\u001b[39;00m \u001b[39m.\u001b[39;00m\u001b[39mdirect_lingam\u001b[39;00m \u001b[39mimport\u001b[39;00m DirectLiNGAM\n\u001b[1;32m     17\u001b[0m \u001b[39mfrom\u001b[39;00m \u001b[39m.\u001b[39;00m\u001b[39mica_lingam\u001b[39;00m \u001b[39mimport\u001b[39;00m ICALiNGAM\n",
      "File \u001b[0;32m~/Library/Caches/pypoetry/virtualenvs/causal-ml-notebooks-qefu-_6Z-py3.10/lib/python3.10/site-packages/castle/algorithms/lingam/direct_lingam.py:23\u001b[0m\n\u001b[1;32m     21\u001b[0m \u001b[39mfrom\u001b[39;00m \u001b[39mcastle\u001b[39;00m\u001b[39m.\u001b[39;00m\u001b[39mcommon\u001b[39;00m \u001b[39mimport\u001b[39;00m BaseLearner, Tensor\n\u001b[1;32m     22\u001b[0m \u001b[39mfrom\u001b[39;00m \u001b[39mcastle\u001b[39;00m\u001b[39m.\u001b[39;00m\u001b[39mcommon\u001b[39;00m\u001b[39m.\u001b[39;00m\u001b[39mconsts\u001b[39;00m \u001b[39mimport\u001b[39;00m DIRECT_LINGAM_VALID_PARAMS\n\u001b[0;32m---> 23\u001b[0m \u001b[39mfrom\u001b[39;00m \u001b[39mcastle\u001b[39;00m\u001b[39m.\u001b[39;00m\u001b[39mcommon\u001b[39;00m\u001b[39m.\u001b[39;00m\u001b[39mvalidator\u001b[39;00m \u001b[39mimport\u001b[39;00m check_args_value\n\u001b[1;32m     26\u001b[0m \u001b[39mclass\u001b[39;00m \u001b[39mDirectLiNGAM\u001b[39;00m(_BaseLiNGAM, BaseLearner):\n\u001b[1;32m     27\u001b[0m \u001b[39m    \u001b[39m\u001b[39m\"\"\"\u001b[39;00m\n\u001b[1;32m     28\u001b[0m \u001b[39m    DirectLiNGAM Algorithm.\u001b[39;00m\n\u001b[1;32m     29\u001b[0m \u001b[39m    A direct learning algorithm for linear non-Gaussian acyclic model (LiNGAM).\u001b[39;00m\n\u001b[0;32m   (...)\u001b[0m\n\u001b[1;32m     73\u001b[0m \u001b[39m    >>> print(met.metrics)\u001b[39;00m\n\u001b[1;32m     74\u001b[0m \u001b[39m    \"\"\"\u001b[39;00m\n",
      "File \u001b[0;32m~/Library/Caches/pypoetry/virtualenvs/causal-ml-notebooks-qefu-_6Z-py3.10/lib/python3.10/site-packages/castle/common/validator.py:23\u001b[0m\n\u001b[1;32m     21\u001b[0m \u001b[39mimport\u001b[39;00m \u001b[39mfunctools\u001b[39;00m\n\u001b[1;32m     22\u001b[0m \u001b[39mimport\u001b[39;00m \u001b[39mnumpy\u001b[39;00m \u001b[39mas\u001b[39;00m \u001b[39mnp\u001b[39;00m\n\u001b[0;32m---> 23\u001b[0m \u001b[39mimport\u001b[39;00m \u001b[39mtorch\u001b[39;00m\n\u001b[1;32m     26\u001b[0m \u001b[39mdef\u001b[39;00m \u001b[39mtransfer_to_device\u001b[39m(\u001b[39m*\u001b[39margs, device\u001b[39m=\u001b[39m\u001b[39mNone\u001b[39;00m):\n\u001b[1;32m     27\u001b[0m \u001b[39m    \u001b[39m\u001b[39m\"\"\"\u001b[39;00m\n\u001b[1;32m     28\u001b[0m \u001b[39m    Transfer `*args` to `device`\u001b[39;00m\n\u001b[1;32m     29\u001b[0m \n\u001b[0;32m   (...)\u001b[0m\n\u001b[1;32m     39\u001b[0m \u001b[39m    out: args\u001b[39;00m\n\u001b[1;32m     40\u001b[0m \u001b[39m    \"\"\"\u001b[39;00m\n",
      "\u001b[0;31mModuleNotFoundError\u001b[0m: No module named 'torch'"
     ]
    }
   ],
   "source": [
    "import os\n",
    "os.environ['CASTLE_BACKEND'] = 'pytorch'\n",
    "\n",
    "from collections import OrderedDict\n",
    "\n",
    "import numpy as np\n",
    "import networkx as nx\n",
    "\n",
    "import castle\n",
    "\n",
    "from castle.common import GraphDAG\n",
    "from castle.metrics import MetricsDAG\n",
    "from castle.datasets import IIDSimulation, DAG\n",
    "from castle.algorithms import PC, GES, ICALiNGAM, GOLEM\n",
    "\n",
    "import matplotlib.pyplot as plt"
   ]
  },
  {
   "cell_type": "code",
   "execution_count": null,
   "id": "e54a6df0",
   "metadata": {},
   "outputs": [
    {
     "name": "stdout",
     "output_type": "stream",
     "text": [
      "(1000, 4)\n"
     ]
    }
   ],
   "source": [
    "# Let's generate the data according to Fig 2. A.\n",
    "x = np.random.randn(1000)\n",
    "y = np.random.randn(1000)\n",
    "\n",
    "z = x + y + .1 * np.random.randn(1000)\n",
    "w = .7 * z + .1 * np.random.randn(1000)\n",
    "\n",
    "# To matrix\n",
    "pc_dataset = np.vstack([x, y, z, w]).T\n",
    "\n",
    "# Sanity check\n",
    "print(pc_dataset.shape)\n",
    "\n",
    "# (1000, 4)"
   ]
  }
 ],
 "metadata": {
  "kernelspec": {
   "display_name": "Python 3 (ipykernel)",
   "language": "python",
   "name": "python3"
  },
  "language_info": {
   "codemirror_mode": {
    "name": "ipython",
    "version": 3
   },
   "file_extension": ".py",
   "mimetype": "text/x-python",
   "name": "python",
   "nbconvert_exporter": "python",
   "pygments_lexer": "ipython3",
   "version": "3.10.9"
  }
 },
 "nbformat": 4,
 "nbformat_minor": 5
}
